{
  "nbformat": 4,
  "nbformat_minor": 0,
  "metadata": {
    "colab": {
      "name": "week1.ipynb",
      "provenance": [],
      "collapsed_sections": [],
      "authorship_tag": "ABX9TyNw7WFyQEks07NO6xL9Qyzk",
      "include_colab_link": true
    },
    "kernelspec": {
      "name": "python3",
      "display_name": "Python 3"
    },
    "language_info": {
      "name": "python"
    }
  },
  "cells": [
    {
      "cell_type": "markdown",
      "metadata": {
        "id": "view-in-github",
        "colab_type": "text"
      },
      "source": [
        "<a href=\"https://colab.research.google.com/github/riya-29/DataAnalytics/blob/main/week1.ipynb\" target=\"_parent\"><img src=\"https://colab.research.google.com/assets/colab-badge.svg\" alt=\"Open In Colab\"/></a>"
      ]
    },
    {
      "cell_type": "code",
      "execution_count": null,
      "metadata": {
        "id": "x95Auq7A4INX"
      },
      "outputs": [],
      "source": [
        "# Insights - to gain an accurate and deep understanding of something \n",
        "# analytics - information resulting from the systematic analysis of data \n",
        "# analysis - detailed examination of something \n",
        "# analysis of past - how when why\n",
        "# analytics for future - what will happen\n",
        "\n",
        "# Descriptive Analytics - what happened?\n",
        "# Diagnostic Analytics - why did it happen?\n",
        "# Predictive Analytics - what will happen?\n",
        "# Prescriptive Analytics - How can we make it happen?\n",
        "\n",
        "# Levels of Data Measurement\n",
        "# Nominal : lowest level of measurement - no ranking implied, ex- gender \n",
        "# Ordinal : ranking implied, ex- Student grades(A,B,C,D,F)\n",
        "# Interval : ordered scale, diff b/w measurement don't have true zero point, ex- Temperature (in C or F) - 0 does't mean absense of temp.\n",
        "# Ratio : Highest level of measurement, ordered scale, diff b/w measurement have true zero point, ex- age, salary\n",
        "# \n",
        "\n"
      ]
    },
    {
      "cell_type": "code",
      "source": [
        "import pandas as pd\n",
        "df = pd.read_csv('sample_data/california_housing_test.csv')\n",
        "print(df.head(2))\n",
        "print(df.count())\n",
        "print(df.describe())\n",
        "\n",
        "\n"
      ],
      "metadata": {
        "id": "9EAycqv14xsR",
        "outputId": "846e25ea-3697-4021-f948-ac9190c62829",
        "colab": {
          "base_uri": "https://localhost:8080/"
        }
      },
      "execution_count": 10,
      "outputs": [
        {
          "output_type": "stream",
          "name": "stdout",
          "text": [
            "   longitude  latitude  housing_median_age  total_rooms  total_bedrooms  \\\n",
            "0    -122.05     37.37                27.0       3885.0           661.0   \n",
            "1    -118.30     34.26                43.0       1510.0           310.0   \n",
            "\n",
            "   population  households  median_income  median_house_value  \n",
            "0      1537.0       606.0         6.6085            344700.0  \n",
            "1       809.0       277.0         3.5990            176500.0  \n",
            "longitude             3000\n",
            "latitude              3000\n",
            "housing_median_age    3000\n",
            "total_rooms           3000\n",
            "total_bedrooms        3000\n",
            "population            3000\n",
            "households            3000\n",
            "median_income         3000\n",
            "median_house_value    3000\n",
            "dtype: int64\n",
            "         longitude    latitude  housing_median_age   total_rooms  \\\n",
            "count  3000.000000  3000.00000         3000.000000   3000.000000   \n",
            "mean   -119.589200    35.63539           28.845333   2599.578667   \n",
            "std       1.994936     2.12967           12.555396   2155.593332   \n",
            "min    -124.180000    32.56000            1.000000      6.000000   \n",
            "25%    -121.810000    33.93000           18.000000   1401.000000   \n",
            "50%    -118.485000    34.27000           29.000000   2106.000000   \n",
            "75%    -118.020000    37.69000           37.000000   3129.000000   \n",
            "max    -114.490000    41.92000           52.000000  30450.000000   \n",
            "\n",
            "       total_bedrooms    population  households  median_income  \\\n",
            "count     3000.000000   3000.000000  3000.00000    3000.000000   \n",
            "mean       529.950667   1402.798667   489.91200       3.807272   \n",
            "std        415.654368   1030.543012   365.42271       1.854512   \n",
            "min          2.000000      5.000000     2.00000       0.499900   \n",
            "25%        291.000000    780.000000   273.00000       2.544000   \n",
            "50%        437.000000   1155.000000   409.50000       3.487150   \n",
            "75%        636.000000   1742.750000   597.25000       4.656475   \n",
            "max       5419.000000  11935.000000  4930.00000      15.000100   \n",
            "\n",
            "       median_house_value  \n",
            "count          3000.00000  \n",
            "mean         205846.27500  \n",
            "std          113119.68747  \n",
            "min           22500.00000  \n",
            "25%          121200.00000  \n",
            "50%          177650.00000  \n",
            "75%          263975.00000  \n",
            "max          500001.00000  \n"
          ]
        }
      ]
    }
  ]
}