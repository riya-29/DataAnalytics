{
  "nbformat": 4,
  "nbformat_minor": 0,
  "metadata": {
    "colab": {
      "name": "week1.ipynb",
      "provenance": [],
      "collapsed_sections": [],
      "authorship_tag": "ABX9TyMMqBJ/jyhykL7429D3k6QQ",
      "include_colab_link": true
    },
    "kernelspec": {
      "name": "python3",
      "display_name": "Python 3"
    },
    "language_info": {
      "name": "python"
    }
  },
  "cells": [
    {
      "cell_type": "markdown",
      "metadata": {
        "id": "view-in-github",
        "colab_type": "text"
      },
      "source": [
        "<a href=\"https://colab.research.google.com/github/riya-29/DataAnalytics/blob/main/week1.ipynb\" target=\"_parent\"><img src=\"https://colab.research.google.com/assets/colab-badge.svg\" alt=\"Open In Colab\"/></a>"
      ]
    },
    {
      "cell_type": "code",
      "execution_count": null,
      "metadata": {
        "id": "x95Auq7A4INX"
      },
      "outputs": [],
      "source": [
        "# Insights - to gain an accurate and deep understanding of something \n",
        "# analytics - information resulting from the systematic analysis of data \n",
        "# analysis - detailed examination of something \n",
        "# analysis of past - how when why\n",
        "# analytics for future - what will happen\n",
        "\n",
        "# Descriptive Analytics - what happened?\n",
        "# Diagnostic Analytics - why did it happen?\n",
        "# Predictive Analytics - what will happen?\n",
        "# Prescriptive Analytics - How can we make it happen?\n",
        "\n",
        "# Levels of Data Measurement\n",
        "# Nominal : lowest level of measurement - no ranking implied, ex- gender \n",
        "# Ordinal : ranking implied, ex- Student grades(A,B,C,D,F)\n",
        "# Interval : ordered scale, diff b/w measurement don't have true zero point, ex- Temperature (in C or F) - 0 does't mean absense of temp.\n",
        "# Ratio : Highest level of measurement, ordered scale, diff b/w measurement have true zero point, ex- age, salary\n",
        "# \n",
        "\n"
      ]
    },
    {
      "cell_type": "code",
      "source": [
        "import pandas as pd;\n"
      ],
      "metadata": {
        "id": "9EAycqv14xsR"
      },
      "execution_count": null,
      "outputs": []
    }
  ]
}