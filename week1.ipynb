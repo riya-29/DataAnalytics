{
  "nbformat": 4,
  "nbformat_minor": 0,
  "metadata": {
    "colab": {
      "name": "week1.ipynb",
      "provenance": [],
      "collapsed_sections": [],
      "authorship_tag": "ABX9TyOkMrk++oXx6qVmBQPB7+z+",
      "include_colab_link": true
    },
    "kernelspec": {
      "name": "python3",
      "display_name": "Python 3"
    },
    "language_info": {
      "name": "python"
    }
  },
  "cells": [
    {
      "cell_type": "markdown",
      "metadata": {
        "id": "view-in-github",
        "colab_type": "text"
      },
      "source": [
        "<a href=\"https://colab.research.google.com/github/riya-29/DataAnalytics/blob/main/week1.ipynb\" target=\"_parent\"><img src=\"https://colab.research.google.com/assets/colab-badge.svg\" alt=\"Open In Colab\"/></a>"
      ]
    },
    {
      "cell_type": "code",
      "execution_count": null,
      "metadata": {
        "id": "x95Auq7A4INX"
      },
      "outputs": [],
      "source": [
        "# Insights - to gain an accurate and deep understanding of something \n",
        "# analytics - information resulting from the systematic analysis of data \n",
        "# analysis - detailed examination of something \n",
        "# analysis of past - how when why\n",
        "# analytics for future - what will happen\n",
        "\n",
        "# Descriptive Analytics - what happened?\n",
        "# Diagnostic Analytics - why did it happen?\n",
        "# Predictive Analytics - what will happen?\n",
        "# Prescriptive Analytics - How can we make it happen?\n",
        "\n",
        "# Levels of Data Measurement\n",
        "# Nominal : lowest level of measurement - no ranking implied, ex- gender \n",
        "# Ordinal : ranking implied, ex- Student grades(A,B,C,D,F)\n",
        "# Interval : ordered scale, diff b/w measurement don't have true zero point, ex- Temperature (in C or F) - 0 does't mean absense of temp.\n",
        "# Ratio : Highest level of measurement, ordered scale, diff b/w measurement have true zero point, ex- age, salary"
      ]
    },
    {
      "cell_type": "code",
      "source": [
        "import pandas as pd\n",
        "import numpy as np\n",
        "import matplotlib.pyplot as plt"
      ],
      "metadata": {
        "id": "9EAycqv14xsR"
      },
      "execution_count": 1,
      "outputs": []
    },
    {
      "cell_type": "code",
      "source": [
        "df = pd.read_csv('sample_data/california_housing_test.csv')\n",
        "\n",
        "print(df.head(4))"
      ],
      "metadata": {
        "id": "j_aht8g2f-iW",
        "outputId": "eed72b6a-85c3-4c33-bbfe-d1e74a224f86",
        "colab": {
          "base_uri": "https://localhost:8080/"
        }
      },
      "execution_count": 5,
      "outputs": [
        {
          "output_type": "stream",
          "name": "stdout",
          "text": [
            "   longitude  latitude  housing_median_age  total_rooms  total_bedrooms  \\\n",
            "0    -122.05     37.37                27.0       3885.0           661.0   \n",
            "1    -118.30     34.26                43.0       1510.0           310.0   \n",
            "2    -117.81     33.78                27.0       3589.0           507.0   \n",
            "3    -118.36     33.82                28.0         67.0            15.0   \n",
            "\n",
            "   population  households  median_income  median_house_value  \n",
            "0      1537.0       606.0         6.6085            344700.0  \n",
            "1       809.0       277.0         3.5990            176500.0  \n",
            "2      1484.0       495.0         5.7934            270500.0  \n",
            "3        49.0        11.0         6.1359            330000.0  \n"
          ]
        }
      ]
    },
    {
      "cell_type": "code",
      "source": [
        "print(df.count())\n",
        "print(df.shape) # r x c"
      ],
      "metadata": {
        "id": "HUGzM46kgrsv",
        "outputId": "26f9f9b1-c320-471d-f46c-8de1f95a03af",
        "colab": {
          "base_uri": "https://localhost:8080/"
        }
      },
      "execution_count": 6,
      "outputs": [
        {
          "output_type": "stream",
          "name": "stdout",
          "text": [
            "longitude             3000\n",
            "latitude              3000\n",
            "housing_median_age    3000\n",
            "total_rooms           3000\n",
            "total_bedrooms        3000\n",
            "population            3000\n",
            "households            3000\n",
            "median_income         3000\n",
            "median_house_value    3000\n",
            "dtype: int64\n",
            "(3000, 9)\n"
          ]
        }
      ]
    },
    {
      "cell_type": "code",
      "source": [
        "print(df.columns)\n",
        "print(df.dtypes)  # data type of each columns"
      ],
      "metadata": {
        "id": "RLtEdOPYgyzM",
        "outputId": "302bf4e9-e186-4865-88e6-23b9ee7b6de7",
        "colab": {
          "base_uri": "https://localhost:8080/"
        }
      },
      "execution_count": 8,
      "outputs": [
        {
          "output_type": "stream",
          "name": "stdout",
          "text": [
            "Index(['longitude', 'latitude', 'housing_median_age', 'total_rooms',\n",
            "       'total_bedrooms', 'population', 'households', 'median_income',\n",
            "       'median_house_value'],\n",
            "      dtype='object')\n",
            "longitude             float64\n",
            "latitude              float64\n",
            "housing_median_age    float64\n",
            "total_rooms           float64\n",
            "total_bedrooms        float64\n",
            "population            float64\n",
            "households            float64\n",
            "median_income         float64\n",
            "median_house_value    float64\n",
            "dtype: object\n"
          ]
        }
      ]
    },
    {
      "cell_type": "code",
      "source": [
        "print(df.info())"
      ],
      "metadata": {
        "id": "VFSeGRY8hEdV",
        "outputId": "0c2b8f26-fb33-43af-9b47-41956acfb63f",
        "colab": {
          "base_uri": "https://localhost:8080/"
        }
      },
      "execution_count": 11,
      "outputs": [
        {
          "output_type": "stream",
          "name": "stdout",
          "text": [
            "<class 'pandas.core.frame.DataFrame'>\n",
            "RangeIndex: 3000 entries, 0 to 2999\n",
            "Data columns (total 9 columns):\n",
            " #   Column              Non-Null Count  Dtype  \n",
            "---  ------              --------------  -----  \n",
            " 0   longitude           3000 non-null   float64\n",
            " 1   latitude            3000 non-null   float64\n",
            " 2   housing_median_age  3000 non-null   float64\n",
            " 3   total_rooms         3000 non-null   float64\n",
            " 4   total_bedrooms      3000 non-null   float64\n",
            " 5   population          3000 non-null   float64\n",
            " 6   households          3000 non-null   float64\n",
            " 7   median_income       3000 non-null   float64\n",
            " 8   median_house_value  3000 non-null   float64\n",
            "dtypes: float64(9)\n",
            "memory usage: 211.1 KB\n",
            "None\n"
          ]
        }
      ]
    },
    {
      "cell_type": "code",
      "source": [
        "print(df['total_rooms'].head())\n",
        "print(df['total_rooms'].tail())"
      ],
      "metadata": {
        "id": "eQnCw5PEhuCK",
        "outputId": "5545951b-2bc6-4773-ec0f-a600d1bba1a5",
        "colab": {
          "base_uri": "https://localhost:8080/"
        }
      },
      "execution_count": 15,
      "outputs": [
        {
          "output_type": "stream",
          "name": "stdout",
          "text": [
            "0    3885.0\n",
            "1    1510.0\n",
            "2    3589.0\n",
            "3      67.0\n",
            "4    1241.0\n",
            "Name: total_rooms, dtype: float64\n",
            "2995    1450.0\n",
            "2996    5257.0\n",
            "2997     956.0\n",
            "2998      96.0\n",
            "2999    1765.0\n",
            "Name: total_rooms, dtype: float64\n"
          ]
        }
      ]
    },
    {
      "cell_type": "code",
      "source": [
        "print(df.loc[0])"
      ],
      "metadata": {
        "id": "wnzYbXvKh8z6",
        "outputId": "02912260-6cc0-4bfc-ddd3-274a66602aae",
        "colab": {
          "base_uri": "https://localhost:8080/"
        }
      },
      "execution_count": 16,
      "outputs": [
        {
          "output_type": "stream",
          "name": "stdout",
          "text": [
            "longitude               -122.0500\n",
            "latitude                  37.3700\n",
            "housing_median_age        27.0000\n",
            "total_rooms             3885.0000\n",
            "total_bedrooms           661.0000\n",
            "population              1537.0000\n",
            "households               606.0000\n",
            "median_income              6.6085\n",
            "median_house_value    344700.0000\n",
            "Name: 0, dtype: float64\n"
          ]
        }
      ]
    }
  ]
}